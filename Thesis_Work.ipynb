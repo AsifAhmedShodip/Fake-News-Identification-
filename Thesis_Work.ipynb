{
  "nbformat": 4,
  "nbformat_minor": 0,
  "metadata": {
    "colab": {
      "name": "Thesis Work",
      "provenance": [],
      "collapsed_sections": [
        "mWDYozvxywQ0"
      ],
      "toc_visible": true,
      "include_colab_link": true
    },
    "kernelspec": {
      "name": "python3",
      "display_name": "Python 3"
    },
    "accelerator": "GPU"
  },
  "cells": [
    {
      "cell_type": "markdown",
      "metadata": {
        "id": "view-in-github",
        "colab_type": "text"
      },
      "source": [
        "<a href=\"https://colab.research.google.com/github/AsifAhmedShodip/Fake-News-Identification-/blob/main/Thesis_Work.ipynb\" target=\"_parent\"><img src=\"https://colab.research.google.com/assets/colab-badge.svg\" alt=\"Open In Colab\"/></a>"
      ]
    },
    {
      "cell_type": "markdown",
      "metadata": {
        "id": "Bpw0To_ItpiT"
      },
      "source": [
        "# Library"
      ]
    },
    {
      "cell_type": "code",
      "metadata": {
        "id": "RmkDvKs6MWYR"
      },
      "source": [
        "import numpy as np\n",
        "import pandas as pd\n",
        "import matplotlib.pyplot as plt\n",
        "from collections import Counter\n",
        "from sklearn import feature_extraction, model_selection, naive_bayes, metrics, svm\n",
        "from IPython.display import Image\n",
        "import warnings\n",
        "import seaborn as sns\n",
        "import wordcloud\n",
        "import string\n",
        "from sklearn.feature_extraction.text import TfidfTransformer\n",
        "from google.colab import drive\n",
        "import os"
      ],
      "execution_count": null,
      "outputs": []
    },
    {
      "cell_type": "markdown",
      "metadata": {
        "id": "JxY94E1rtXGK"
      },
      "source": [
        "# Loading Data"
      ]
    },
    {
      "cell_type": "code",
      "metadata": {
        "id": "PcmK3RQ3mswA",
        "outputId": "5cedfd8c-a48a-4155-c75a-37403b1e5c25",
        "colab": {
          "base_uri": "https://localhost:8080/",
          "height": 190
        }
      },
      "source": [
        "drive.mount('/content/drive')\n",
        "os.chdir('/content/drive/My Drive/THESIS/Files')\n",
        "\n",
        "data=pd.read_csv('dataset.csv', encoding = 'utf-16')\n",
        "data.head(4)"
      ],
      "execution_count": null,
      "outputs": [
        {
          "output_type": "stream",
          "text": [
            "Mounted at /content/drive\n"
          ],
          "name": "stdout"
        },
        {
          "output_type": "execute_result",
          "data": {
            "text/html": [
              "<div>\n",
              "<style scoped>\n",
              "    .dataframe tbody tr th:only-of-type {\n",
              "        vertical-align: middle;\n",
              "    }\n",
              "\n",
              "    .dataframe tbody tr th {\n",
              "        vertical-align: top;\n",
              "    }\n",
              "\n",
              "    .dataframe thead th {\n",
              "        text-align: right;\n",
              "    }\n",
              "</style>\n",
              "<table border=\"1\" class=\"dataframe\">\n",
              "  <thead>\n",
              "    <tr style=\"text-align: right;\">\n",
              "      <th></th>\n",
              "      <th>title</th>\n",
              "      <th>text</th>\n",
              "      <th>time</th>\n",
              "      <th>link</th>\n",
              "      <th>label</th>\n",
              "      <th>source</th>\n",
              "    </tr>\n",
              "  </thead>\n",
              "  <tbody>\n",
              "    <tr>\n",
              "      <th>0</th>\n",
              "      <td>নাম পরিবর্তনের কথা ভাবছেন ফখা</td>\n",
              "      <td>নিজস্ব মতিবেদক নিজের দাদীর রাখা নাম পরিবর্তন ক...</td>\n",
              "      <td>2013-04-03T08:15:19+00:00</td>\n",
              "      <td>https://motikontho.wordpress.com/2013/04/03/%e...</td>\n",
              "      <td>0</td>\n",
              "      <td>motikontho</td>\n",
              "    </tr>\n",
              "    <tr>\n",
              "      <th>1</th>\n",
              "      <td>তজুমদ্দিনে ৯ মৎস্যজীবীর জেল-জরিমানা</td>\n",
              "      <td>ভোলার তজুমদ্দিনে নিষেধাজ্ঞা অমান্য করে মা ইলিশ...</td>\n",
              "      <td>১৬:৪৩, ১১ অক্টোবর, ২০১৯</td>\n",
              "      <td>https://www.ittefaq.com.bd/wholecountry/96112/...</td>\n",
              "      <td>1</td>\n",
              "      <td>Ittefaq</td>\n",
              "    </tr>\n",
              "    <tr>\n",
              "      <th>2</th>\n",
              "      <td>থানায় যোগদানের বর্ষপূর্তিতে বরের বেশে ওসি</td>\n",
              "      <td>বর্ণাঢ্য অনুষ্ঠান ও নৈশভোজের মধ্য দিয়ে সিলেটের...</td>\n",
              "      <td>১৮:৩১, ১১ অক্টোবর, ২০১৯</td>\n",
              "      <td>https://www.ittefaq.com.bd/wholecountry/96133/...</td>\n",
              "      <td>1</td>\n",
              "      <td>Ittefaq</td>\n",
              "    </tr>\n",
              "    <tr>\n",
              "      <th>3</th>\n",
              "      <td>প্রেমিকা ছবিতে লাভ রিয়্যাক্ট না করাতেই ফেসবুক ...</td>\n",
              "      <td>জনপ্রিয় সোশ্যাল মিডিয়া প্লাটফর্ম ফেসবুকের স্বা...</td>\n",
              "      <td>2019-03-14T11:54:55+00:00</td>\n",
              "      <td>https://bengalbeats.com/noakhailla-guy-is-the-...</td>\n",
              "      <td>0</td>\n",
              "      <td>Bengal Beats</td>\n",
              "    </tr>\n",
              "  </tbody>\n",
              "</table>\n",
              "</div>"
            ],
            "text/plain": [
              "                                               title  ...        source\n",
              "0                      নাম পরিবর্তনের কথা ভাবছেন ফখা  ...    motikontho\n",
              "1                তজুমদ্দিনে ৯ মৎস্যজীবীর জেল-জরিমানা  ...       Ittefaq\n",
              "2          থানায় যোগদানের বর্ষপূর্তিতে বরের বেশে ওসি  ...       Ittefaq\n",
              "3  প্রেমিকা ছবিতে লাভ রিয়্যাক্ট না করাতেই ফেসবুক ...  ...  Bengal Beats\n",
              "\n",
              "[4 rows x 6 columns]"
            ]
          },
          "metadata": {
            "tags": []
          },
          "execution_count": 2
        }
      ]
    },
    {
      "cell_type": "markdown",
      "metadata": {
        "id": "rD85ry1Ot_0T"
      },
      "source": [
        "# Visualizing Data"
      ]
    },
    {
      "cell_type": "code",
      "metadata": {
        "id": "TND_Sy4_oKNt",
        "outputId": "81824a03-e017-4f93-e5e9-0ddcf681649c",
        "colab": {
          "base_uri": "https://localhost:8080/",
          "height": 297
        }
      },
      "source": [
        "data.describe()"
      ],
      "execution_count": null,
      "outputs": [
        {
          "output_type": "execute_result",
          "data": {
            "text/html": [
              "<div>\n",
              "<style scoped>\n",
              "    .dataframe tbody tr th:only-of-type {\n",
              "        vertical-align: middle;\n",
              "    }\n",
              "\n",
              "    .dataframe tbody tr th {\n",
              "        vertical-align: top;\n",
              "    }\n",
              "\n",
              "    .dataframe thead th {\n",
              "        text-align: right;\n",
              "    }\n",
              "</style>\n",
              "<table border=\"1\" class=\"dataframe\">\n",
              "  <thead>\n",
              "    <tr style=\"text-align: right;\">\n",
              "      <th></th>\n",
              "      <th>label</th>\n",
              "    </tr>\n",
              "  </thead>\n",
              "  <tbody>\n",
              "    <tr>\n",
              "      <th>count</th>\n",
              "      <td>4428.000000</td>\n",
              "    </tr>\n",
              "    <tr>\n",
              "      <th>mean</th>\n",
              "      <td>0.609530</td>\n",
              "    </tr>\n",
              "    <tr>\n",
              "      <th>std</th>\n",
              "      <td>0.487911</td>\n",
              "    </tr>\n",
              "    <tr>\n",
              "      <th>min</th>\n",
              "      <td>0.000000</td>\n",
              "    </tr>\n",
              "    <tr>\n",
              "      <th>25%</th>\n",
              "      <td>0.000000</td>\n",
              "    </tr>\n",
              "    <tr>\n",
              "      <th>50%</th>\n",
              "      <td>1.000000</td>\n",
              "    </tr>\n",
              "    <tr>\n",
              "      <th>75%</th>\n",
              "      <td>1.000000</td>\n",
              "    </tr>\n",
              "    <tr>\n",
              "      <th>max</th>\n",
              "      <td>1.000000</td>\n",
              "    </tr>\n",
              "  </tbody>\n",
              "</table>\n",
              "</div>"
            ],
            "text/plain": [
              "             label\n",
              "count  4428.000000\n",
              "mean      0.609530\n",
              "std       0.487911\n",
              "min       0.000000\n",
              "25%       0.000000\n",
              "50%       1.000000\n",
              "75%       1.000000\n",
              "max       1.000000"
            ]
          },
          "metadata": {
            "tags": []
          },
          "execution_count": 3
        }
      ]
    },
    {
      "cell_type": "code",
      "metadata": {
        "id": "Frl_thAyMcmT",
        "outputId": "e49bb57d-ffef-4e81-a376-27b555987ef9",
        "colab": {
          "base_uri": "https://localhost:8080/",
          "height": 238
        }
      },
      "source": [
        "data.info()"
      ],
      "execution_count": null,
      "outputs": [
        {
          "output_type": "stream",
          "text": [
            "<class 'pandas.core.frame.DataFrame'>\n",
            "RangeIndex: 4428 entries, 0 to 4427\n",
            "Data columns (total 6 columns):\n",
            " #   Column  Non-Null Count  Dtype \n",
            "---  ------  --------------  ----- \n",
            " 0   title   4428 non-null   object\n",
            " 1   text    4428 non-null   object\n",
            " 2   time    4428 non-null   object\n",
            " 3   link    4428 non-null   object\n",
            " 4   label   4428 non-null   int64 \n",
            " 5   source  4428 non-null   object\n",
            "dtypes: int64(1), object(5)\n",
            "memory usage: 207.7+ KB\n"
          ],
          "name": "stdout"
        }
      ]
    },
    {
      "cell_type": "markdown",
      "metadata": {
        "id": "IDK5u_nvxO_G"
      },
      "source": [
        "##Bar Chart"
      ]
    },
    {
      "cell_type": "code",
      "metadata": {
        "id": "FGZ1raAUqtgL",
        "outputId": "1635a5b0-48ed-40ec-f4bd-28a5b4cabe07",
        "colab": {
          "base_uri": "https://localhost:8080/",
          "height": 329
        }
      },
      "source": [
        "count_Class=pd.value_counts(data[\"label\"], sort= True)\n",
        "print(count_Class)\n",
        "count_Class.plot(kind= 'bar', color= [\"blue\", \"orange\"])\n",
        "plt.title('Bar chart')\n",
        "plt.show()"
      ],
      "execution_count": null,
      "outputs": [
        {
          "output_type": "stream",
          "text": [
            "1    2699\n",
            "0    1729\n",
            "Name: label, dtype: int64\n"
          ],
          "name": "stdout"
        },
        {
          "output_type": "display_data",
          "data": {
            "image/png": "[encoded data removed]",
            "text/plain": [
              "<Figure size 432x288 with 1 Axes>"
            ]
          },
          "metadata": {
            "tags": [],
            "needs_background": "light"
          }
        }
      ]
    },
    {
      "cell_type": "markdown",
      "metadata": {
        "id": "ewN_ntEbxT8P"
      },
      "source": [
        "##Pie Chart"
      ]
    },
    {
      "cell_type": "code",
      "metadata": {
        "id": "AgYeaw0RrhR6",
        "outputId": "79677cb4-bbcc-4feb-cb2d-59cb4c685986",
        "colab": {
          "base_uri": "https://localhost:8080/",
          "height": 264
        }
      },
      "source": [
        "count_Class.plot(kind = 'pie',  autopct='%1.0f%%')\n",
        "plt.title('Pie chart')\n",
        "plt.ylabel('')\n",
        "plt.show()"
      ],
      "execution_count": null,
      "outputs": [
        {
          "output_type": "display_data",
          "data": {
            "image/png": "[encoded data removed]",
            "text/plain": [
              "<Figure size 432x288 with 1 Axes>"
            ]
          },
          "metadata": {
            "tags": []
          }
        }
      ]
    },
    {
      "cell_type": "markdown",
      "metadata": {
        "id": "zg06E9zExgCP"
      },
      "source": [
        "##More frequent words V1"
      ]
    },
    {
      "cell_type": "code",
      "metadata": {
        "id": "Mkq4BC7Fr9RT",
        "outputId": "628d329d-8b45-4956-caf2-d657b5fe8180",
        "colab": {
          "base_uri": "https://localhost:8080/",
          "height": 54
        }
      },
      "source": [
        "count1 = Counter(\" \".join(data[data[\"label\"]==True][\"text\"]).split()).most_common(20)\n",
        "print(count1)\n",
        "df1 = pd.DataFrame.from_dict(count1)\n",
        "df1 = df1.rename(columns={0: \"words in non-spam\", 1 : \"count\"})\n",
        "count2 = Counter(\" \".join(data[data['label']==False][\"text\"]).split()).most_common(20)\n",
        "df2 = pd.DataFrame.from_dict(count2)\n",
        "df2 = df2.rename(columns={0: \"words in spam\", 1 : \"count_\"})"
      ],
      "execution_count": null,
      "outputs": [
        {
          "output_type": "stream",
          "text": [
            "[('ও', 7092), ('করে', 4987), ('এ', 4772), ('থেকে', 4461), ('করা', 4238), ('হয়।', 3117), ('হয়েছে।', 2939), ('তার', 2777), ('এক', 2435), ('নিয়ে', 2377), ('বলেন,', 2310), ('উপজেলার', 2283), ('জানান,', 2281), ('পুলিশ', 2258), ('আরও', 2240), ('তিনি', 2231), ('একটি', 2196), ('সময়', 1857), ('এই', 1830), ('জন্য', 1825)]\n"
          ],
          "name": "stdout"
        }
      ]
    },
    {
      "cell_type": "code",
      "metadata": {
        "id": "yoxgeVhHslpU",
        "outputId": "3eae67b3-2230-4c8f-dcce-80eef9c913d8",
        "colab": {
          "base_uri": "https://localhost:8080/",
          "height": 1000
        }
      },
      "source": [
        "df1.plot.bar(legend = False)\n",
        "y_pos = np.arange(len(df1[\"words in non-spam\"]))\n",
        "plt.xticks(y_pos, df1[\"words in non-spam\"])\n",
        "plt.title('More frequent words in non-spam messages')\n",
        "plt.xlabel('words')\n",
        "plt.ylabel('number')\n",
        "plt.show()"
      ],
      "execution_count": null,
      "outputs": [
        {
          "output_type": "stream",
          "text": [
            "/usr/local/lib/python3.6/dist-packages/matplotlib/backends/backend_agg.py:214: RuntimeWarning: Glyph 2451 missing from current font.\n",
            "  font.set_text(s, 0.0, flags=flags)\n",
            "/usr/local/lib/python3.6/dist-packages/matplotlib/backends/backend_agg.py:214: RuntimeWarning: Glyph 2453 missing from current font.\n",
            "  font.set_text(s, 0.0, flags=flags)\n",
            "/usr/local/lib/python3.6/dist-packages/matplotlib/backends/backend_agg.py:214: RuntimeWarning: Glyph 2480 missing from current font.\n",
            "  font.set_text(s, 0.0, flags=flags)\n",
            "/usr/local/lib/python3.6/dist-packages/matplotlib/backends/backend_agg.py:214: RuntimeWarning: Glyph 2503 missing from current font.\n",
            "  font.set_text(s, 0.0, flags=flags)\n",
            "/usr/local/lib/python3.6/dist-packages/matplotlib/backends/backend_agg.py:214: RuntimeWarning: Glyph 2447 missing from current font.\n",
            "  font.set_text(s, 0.0, flags=flags)\n",
            "/usr/local/lib/python3.6/dist-packages/matplotlib/backends/backend_agg.py:214: RuntimeWarning: Glyph 2469 missing from current font.\n",
            "  font.set_text(s, 0.0, flags=flags)\n",
            "/usr/local/lib/python3.6/dist-packages/matplotlib/backends/backend_agg.py:214: RuntimeWarning: Glyph 2494 missing from current font.\n",
            "  font.set_text(s, 0.0, flags=flags)\n",
            "/usr/local/lib/python3.6/dist-packages/matplotlib/backends/backend_agg.py:214: RuntimeWarning: Glyph 2489 missing from current font.\n",
            "  font.set_text(s, 0.0, flags=flags)\n",
            "/usr/local/lib/python3.6/dist-packages/matplotlib/backends/backend_agg.py:214: RuntimeWarning: Glyph 2527 missing from current font.\n",
            "  font.set_text(s, 0.0, flags=flags)\n",
            "/usr/local/lib/python3.6/dist-packages/matplotlib/backends/backend_agg.py:214: RuntimeWarning: Glyph 2404 missing from current font.\n",
            "  font.set_text(s, 0.0, flags=flags)\n",
            "/usr/local/lib/python3.6/dist-packages/matplotlib/backends/backend_agg.py:214: RuntimeWarning: Glyph 2459 missing from current font.\n",
            "  font.set_text(s, 0.0, flags=flags)\n",
            "/usr/local/lib/python3.6/dist-packages/matplotlib/backends/backend_agg.py:214: RuntimeWarning: Glyph 2468 missing from current font.\n",
            "  font.set_text(s, 0.0, flags=flags)\n",
            "/usr/local/lib/python3.6/dist-packages/matplotlib/backends/backend_agg.py:214: RuntimeWarning: Glyph 2472 missing from current font.\n",
            "  font.set_text(s, 0.0, flags=flags)\n",
            "/usr/local/lib/python3.6/dist-packages/matplotlib/backends/backend_agg.py:214: RuntimeWarning: Glyph 2495 missing from current font.\n",
            "  font.set_text(s, 0.0, flags=flags)\n",
            "/usr/local/lib/python3.6/dist-packages/matplotlib/backends/backend_agg.py:214: RuntimeWarning: Glyph 2476 missing from current font.\n",
            "  font.set_text(s, 0.0, flags=flags)\n",
            "/usr/local/lib/python3.6/dist-packages/matplotlib/backends/backend_agg.py:214: RuntimeWarning: Glyph 2482 missing from current font.\n",
            "  font.set_text(s, 0.0, flags=flags)\n",
            "/usr/local/lib/python3.6/dist-packages/matplotlib/backends/backend_agg.py:214: RuntimeWarning: Glyph 2441 missing from current font.\n",
            "  font.set_text(s, 0.0, flags=flags)\n",
            "/usr/local/lib/python3.6/dist-packages/matplotlib/backends/backend_agg.py:214: RuntimeWarning: Glyph 2474 missing from current font.\n",
            "  font.set_text(s, 0.0, flags=flags)\n",
            "/usr/local/lib/python3.6/dist-packages/matplotlib/backends/backend_agg.py:214: RuntimeWarning: Glyph 2460 missing from current font.\n",
            "  font.set_text(s, 0.0, flags=flags)\n",
            "/usr/local/lib/python3.6/dist-packages/matplotlib/backends/backend_agg.py:214: RuntimeWarning: Glyph 2497 missing from current font.\n",
            "  font.set_text(s, 0.0, flags=flags)\n",
            "/usr/local/lib/python3.6/dist-packages/matplotlib/backends/backend_agg.py:214: RuntimeWarning: Glyph 2486 missing from current font.\n",
            "  font.set_text(s, 0.0, flags=flags)\n",
            "/usr/local/lib/python3.6/dist-packages/matplotlib/backends/backend_agg.py:214: RuntimeWarning: Glyph 2438 missing from current font.\n",
            "  font.set_text(s, 0.0, flags=flags)\n",
            "/usr/local/lib/python3.6/dist-packages/matplotlib/backends/backend_agg.py:214: RuntimeWarning: Glyph 2463 missing from current font.\n",
            "  font.set_text(s, 0.0, flags=flags)\n",
            "/usr/local/lib/python3.6/dist-packages/matplotlib/backends/backend_agg.py:214: RuntimeWarning: Glyph 2488 missing from current font.\n",
            "  font.set_text(s, 0.0, flags=flags)\n",
            "/usr/local/lib/python3.6/dist-packages/matplotlib/backends/backend_agg.py:214: RuntimeWarning: Glyph 2478 missing from current font.\n",
            "  font.set_text(s, 0.0, flags=flags)\n",
            "/usr/local/lib/python3.6/dist-packages/matplotlib/backends/backend_agg.py:214: RuntimeWarning: Glyph 2439 missing from current font.\n",
            "  font.set_text(s, 0.0, flags=flags)\n",
            "/usr/local/lib/python3.6/dist-packages/matplotlib/backends/backend_agg.py:214: RuntimeWarning: Glyph 2509 missing from current font.\n",
            "  font.set_text(s, 0.0, flags=flags)\n",
            "/usr/local/lib/python3.6/dist-packages/matplotlib/backends/backend_agg.py:214: RuntimeWarning: Glyph 2479 missing from current font.\n",
            "  font.set_text(s, 0.0, flags=flags)\n",
            "/usr/local/lib/python3.6/dist-packages/matplotlib/backends/backend_agg.py:183: RuntimeWarning: Glyph 2451 missing from current font.\n",
            "  font.set_text(s, 0, flags=flags)\n",
            "/usr/local/lib/python3.6/dist-packages/matplotlib/backends/backend_agg.py:183: RuntimeWarning: Glyph 2453 missing from current font.\n",
            "  font.set_text(s, 0, flags=flags)\n",
            "/usr/local/lib/python3.6/dist-packages/matplotlib/backends/backend_agg.py:183: RuntimeWarning: Glyph 2480 missing from current font.\n",
            "  font.set_text(s, 0, flags=flags)\n",
            "/usr/local/lib/python3.6/dist-packages/matplotlib/backends/backend_agg.py:183: RuntimeWarning: Glyph 2503 missing from current font.\n",
            "  font.set_text(s, 0, flags=flags)\n",
            "/usr/local/lib/python3.6/dist-packages/matplotlib/backends/backend_agg.py:183: RuntimeWarning: Glyph 2447 missing from current font.\n",
            "  font.set_text(s, 0, flags=flags)\n",
            "/usr/local/lib/python3.6/dist-packages/matplotlib/backends/backend_agg.py:183: RuntimeWarning: Glyph 2469 missing from current font.\n",
            "  font.set_text(s, 0, flags=flags)\n",
            "/usr/local/lib/python3.6/dist-packages/matplotlib/backends/backend_agg.py:183: RuntimeWarning: Glyph 2494 missing from current font.\n",
            "  font.set_text(s, 0, flags=flags)\n",
            "/usr/local/lib/python3.6/dist-packages/matplotlib/backends/backend_agg.py:183: RuntimeWarning: Glyph 2489 missing from current font.\n",
            "  font.set_text(s, 0, flags=flags)\n",
            "/usr/local/lib/python3.6/dist-packages/matplotlib/backends/backend_agg.py:183: RuntimeWarning: Glyph 2527 missing from current font.\n",
            "  font.set_text(s, 0, flags=flags)\n",
            "/usr/local/lib/python3.6/dist-packages/matplotlib/backends/backend_agg.py:183: RuntimeWarning: Glyph 2404 missing from current font.\n",
            "  font.set_text(s, 0, flags=flags)\n",
            "/usr/local/lib/python3.6/dist-packages/matplotlib/backends/backend_agg.py:183: RuntimeWarning: Glyph 2459 missing from current font.\n",
            "  font.set_text(s, 0, flags=flags)\n",
            "/usr/local/lib/python3.6/dist-packages/matplotlib/backends/backend_agg.py:183: RuntimeWarning: Glyph 2468 missing from current font.\n",
            "  font.set_text(s, 0, flags=flags)\n",
            "/usr/local/lib/python3.6/dist-packages/matplotlib/backends/backend_agg.py:183: RuntimeWarning: Glyph 2472 missing from current font.\n",
            "  font.set_text(s, 0, flags=flags)\n",
            "/usr/local/lib/python3.6/dist-packages/matplotlib/backends/backend_agg.py:183: RuntimeWarning: Glyph 2495 missing from current font.\n",
            "  font.set_text(s, 0, flags=flags)\n",
            "/usr/local/lib/python3.6/dist-packages/matplotlib/backends/backend_agg.py:183: RuntimeWarning: Glyph 2476 missing from current font.\n",
            "  font.set_text(s, 0, flags=flags)\n",
            "/usr/local/lib/python3.6/dist-packages/matplotlib/backends/backend_agg.py:183: RuntimeWarning: Glyph 2482 missing from current font.\n",
            "  font.set_text(s, 0, flags=flags)\n",
            "/usr/local/lib/python3.6/dist-packages/matplotlib/backends/backend_agg.py:183: RuntimeWarning: Glyph 2441 missing from current font.\n",
            "  font.set_text(s, 0, flags=flags)\n",
            "/usr/local/lib/python3.6/dist-packages/matplotlib/backends/backend_agg.py:183: RuntimeWarning: Glyph 2474 missing from current font.\n",
            "  font.set_text(s, 0, flags=flags)\n",
            "/usr/local/lib/python3.6/dist-packages/matplotlib/backends/backend_agg.py:183: RuntimeWarning: Glyph 2460 missing from current font.\n",
            "  font.set_text(s, 0, flags=flags)\n",
            "/usr/local/lib/python3.6/dist-packages/matplotlib/backends/backend_agg.py:183: RuntimeWarning: Glyph 2497 missing from current font.\n",
            "  font.set_text(s, 0, flags=flags)\n",
            "/usr/local/lib/python3.6/dist-packages/matplotlib/backends/backend_agg.py:183: RuntimeWarning: Glyph 2486 missing from current font.\n",
            "  font.set_text(s, 0, flags=flags)\n",
            "/usr/local/lib/python3.6/dist-packages/matplotlib/backends/backend_agg.py:183: RuntimeWarning: Glyph 2438 missing from current font.\n",
            "  font.set_text(s, 0, flags=flags)\n",
            "/usr/local/lib/python3.6/dist-packages/matplotlib/backends/backend_agg.py:183: RuntimeWarning: Glyph 2463 missing from current font.\n",
            "  font.set_text(s, 0, flags=flags)\n",
            "/usr/local/lib/python3.6/dist-packages/matplotlib/backends/backend_agg.py:183: RuntimeWarning: Glyph 2488 missing from current font.\n",
            "  font.set_text(s, 0, flags=flags)\n",
            "/usr/local/lib/python3.6/dist-packages/matplotlib/backends/backend_agg.py:183: RuntimeWarning: Glyph 2478 missing from current font.\n",
            "  font.set_text(s, 0, flags=flags)\n",
            "/usr/local/lib/python3.6/dist-packages/matplotlib/backends/backend_agg.py:183: RuntimeWarning: Glyph 2439 missing from current font.\n",
            "  font.set_text(s, 0, flags=flags)\n",
            "/usr/local/lib/python3.6/dist-packages/matplotlib/backends/backend_agg.py:183: RuntimeWarning: Glyph 2509 missing from current font.\n",
            "  font.set_text(s, 0, flags=flags)\n",
            "/usr/local/lib/python3.6/dist-packages/matplotlib/backends/backend_agg.py:183: RuntimeWarning: Glyph 2479 missing from current font.\n",
            "  font.set_text(s, 0, flags=flags)\n"
          ],
          "name": "stderr"
        },
        {
          "output_type": "display_data",
          "data": {
            "image/png": "[encoded data removed]",
            "text/plain": [
              "<Figure size 432x288 with 1 Axes>"
            ]
          },
          "metadata": {
            "tags": [],
            "needs_background": "light"
          }
        }
      ]
    },
    {
      "cell_type": "code",
      "metadata": {
        "id": "KjWKn_jvtwHt",
        "outputId": "9f271551-fb5a-4f01-b640-82ccd88c633e",
        "colab": {
          "base_uri": "https://localhost:8080/",
          "height": 1000
        }
      },
      "source": [
        "df2.plot.bar(legend = False, color = 'orange')\n",
        "y_pos = np.arange(len(df2[\"words in spam\"]))\n",
        "plt.xticks(y_pos, df2[\"words in spam\"])\n",
        "plt.title('More frequent words in spam messages')\n",
        "plt.xlabel('words')\n",
        "plt.ylabel('number')\n",
        "plt.show()"
      ],
      "execution_count": null,
      "outputs": [
        {
          "output_type": "stream",
          "text": [
            "/usr/local/lib/python3.6/dist-packages/matplotlib/backends/backend_agg.py:214: RuntimeWarning: Glyph 2476 missing from current font.\n",
            "  font.set_text(s, 0.0, flags=flags)\n",
            "/usr/local/lib/python3.6/dist-packages/matplotlib/backends/backend_agg.py:214: RuntimeWarning: Glyph 2482 missing from current font.\n",
            "  font.set_text(s, 0.0, flags=flags)\n",
            "/usr/local/lib/python3.6/dist-packages/matplotlib/backends/backend_agg.py:214: RuntimeWarning: Glyph 2503 missing from current font.\n",
            "  font.set_text(s, 0.0, flags=flags)\n",
            "/usr/local/lib/python3.6/dist-packages/matplotlib/backends/backend_agg.py:214: RuntimeWarning: Glyph 2472 missing from current font.\n",
            "  font.set_text(s, 0.0, flags=flags)\n",
            "/usr/local/lib/python3.6/dist-packages/matplotlib/backends/backend_agg.py:214: RuntimeWarning: Glyph 2453 missing from current font.\n",
            "  font.set_text(s, 0.0, flags=flags)\n",
            "/usr/local/lib/python3.6/dist-packages/matplotlib/backends/backend_agg.py:214: RuntimeWarning: Glyph 2480 missing from current font.\n",
            "  font.set_text(s, 0.0, flags=flags)\n",
            "/usr/local/lib/python3.6/dist-packages/matplotlib/backends/backend_agg.py:214: RuntimeWarning: Glyph 2451 missing from current font.\n",
            "  font.set_text(s, 0.0, flags=flags)\n",
            "/usr/local/lib/python3.6/dist-packages/matplotlib/backends/backend_agg.py:214: RuntimeWarning: Glyph 2438 missing from current font.\n",
            "  font.set_text(s, 0.0, flags=flags)\n",
            "/usr/local/lib/python3.6/dist-packages/matplotlib/backends/backend_agg.py:214: RuntimeWarning: Glyph 2478 missing from current font.\n",
            "  font.set_text(s, 0.0, flags=flags)\n",
            "/usr/local/lib/python3.6/dist-packages/matplotlib/backends/backend_agg.py:214: RuntimeWarning: Glyph 2495 missing from current font.\n",
            "  font.set_text(s, 0.0, flags=flags)\n",
            "/usr/local/lib/python3.6/dist-packages/matplotlib/backends/backend_agg.py:214: RuntimeWarning: Glyph 2468 missing from current font.\n",
            "  font.set_text(s, 0.0, flags=flags)\n",
            "/usr/local/lib/python3.6/dist-packages/matplotlib/backends/backend_agg.py:214: RuntimeWarning: Glyph 2447 missing from current font.\n",
            "  font.set_text(s, 0.0, flags=flags)\n",
            "/usr/local/lib/python3.6/dist-packages/matplotlib/backends/backend_agg.py:214: RuntimeWarning: Glyph 2439 missing from current font.\n",
            "  font.set_text(s, 0.0, flags=flags)\n",
            "/usr/local/lib/python3.6/dist-packages/matplotlib/backends/backend_agg.py:214: RuntimeWarning: Glyph 2494 missing from current font.\n",
            "  font.set_text(s, 0.0, flags=flags)\n",
            "/usr/local/lib/python3.6/dist-packages/matplotlib/backends/backend_agg.py:214: RuntimeWarning: Glyph 2404 missing from current font.\n",
            "  font.set_text(s, 0.0, flags=flags)\n",
            "/usr/local/lib/python3.6/dist-packages/matplotlib/backends/backend_agg.py:214: RuntimeWarning: Glyph 2469 missing from current font.\n",
            "  font.set_text(s, 0.0, flags=flags)\n",
            "/usr/local/lib/python3.6/dist-packages/matplotlib/backends/backend_agg.py:214: RuntimeWarning: Glyph 2509 missing from current font.\n",
            "  font.set_text(s, 0.0, flags=flags)\n",
            "/usr/local/lib/python3.6/dist-packages/matplotlib/backends/backend_agg.py:214: RuntimeWarning: Glyph 2497 missing from current font.\n",
            "  font.set_text(s, 0.0, flags=flags)\n",
            "/usr/local/lib/python3.6/dist-packages/matplotlib/backends/backend_agg.py:214: RuntimeWarning: Glyph 2460 missing from current font.\n",
            "  font.set_text(s, 0.0, flags=flags)\n",
            "/usr/local/lib/python3.6/dist-packages/matplotlib/backends/backend_agg.py:214: RuntimeWarning: Glyph 2479 missing from current font.\n",
            "  font.set_text(s, 0.0, flags=flags)\n",
            "/usr/local/lib/python3.6/dist-packages/matplotlib/backends/backend_agg.py:214: RuntimeWarning: Glyph 2463 missing from current font.\n",
            "  font.set_text(s, 0.0, flags=flags)\n",
            "/usr/local/lib/python3.6/dist-packages/matplotlib/backends/backend_agg.py:183: RuntimeWarning: Glyph 2476 missing from current font.\n",
            "  font.set_text(s, 0, flags=flags)\n",
            "/usr/local/lib/python3.6/dist-packages/matplotlib/backends/backend_agg.py:183: RuntimeWarning: Glyph 2482 missing from current font.\n",
            "  font.set_text(s, 0, flags=flags)\n",
            "/usr/local/lib/python3.6/dist-packages/matplotlib/backends/backend_agg.py:183: RuntimeWarning: Glyph 2503 missing from current font.\n",
            "  font.set_text(s, 0, flags=flags)\n",
            "/usr/local/lib/python3.6/dist-packages/matplotlib/backends/backend_agg.py:183: RuntimeWarning: Glyph 2472 missing from current font.\n",
            "  font.set_text(s, 0, flags=flags)\n",
            "/usr/local/lib/python3.6/dist-packages/matplotlib/backends/backend_agg.py:183: RuntimeWarning: Glyph 2453 missing from current font.\n",
            "  font.set_text(s, 0, flags=flags)\n",
            "/usr/local/lib/python3.6/dist-packages/matplotlib/backends/backend_agg.py:183: RuntimeWarning: Glyph 2480 missing from current font.\n",
            "  font.set_text(s, 0, flags=flags)\n",
            "/usr/local/lib/python3.6/dist-packages/matplotlib/backends/backend_agg.py:183: RuntimeWarning: Glyph 2451 missing from current font.\n",
            "  font.set_text(s, 0, flags=flags)\n",
            "/usr/local/lib/python3.6/dist-packages/matplotlib/backends/backend_agg.py:183: RuntimeWarning: Glyph 2438 missing from current font.\n",
            "  font.set_text(s, 0, flags=flags)\n",
            "/usr/local/lib/python3.6/dist-packages/matplotlib/backends/backend_agg.py:183: RuntimeWarning: Glyph 2478 missing from current font.\n",
            "  font.set_text(s, 0, flags=flags)\n",
            "/usr/local/lib/python3.6/dist-packages/matplotlib/backends/backend_agg.py:183: RuntimeWarning: Glyph 2495 missing from current font.\n",
            "  font.set_text(s, 0, flags=flags)\n",
            "/usr/local/lib/python3.6/dist-packages/matplotlib/backends/backend_agg.py:183: RuntimeWarning: Glyph 2468 missing from current font.\n",
            "  font.set_text(s, 0, flags=flags)\n",
            "/usr/local/lib/python3.6/dist-packages/matplotlib/backends/backend_agg.py:183: RuntimeWarning: Glyph 2447 missing from current font.\n",
            "  font.set_text(s, 0, flags=flags)\n",
            "/usr/local/lib/python3.6/dist-packages/matplotlib/backends/backend_agg.py:183: RuntimeWarning: Glyph 2439 missing from current font.\n",
            "  font.set_text(s, 0, flags=flags)\n",
            "/usr/local/lib/python3.6/dist-packages/matplotlib/backends/backend_agg.py:183: RuntimeWarning: Glyph 2494 missing from current font.\n",
            "  font.set_text(s, 0, flags=flags)\n",
            "/usr/local/lib/python3.6/dist-packages/matplotlib/backends/backend_agg.py:183: RuntimeWarning: Glyph 2404 missing from current font.\n",
            "  font.set_text(s, 0, flags=flags)\n",
            "/usr/local/lib/python3.6/dist-packages/matplotlib/backends/backend_agg.py:183: RuntimeWarning: Glyph 2469 missing from current font.\n",
            "  font.set_text(s, 0, flags=flags)\n",
            "/usr/local/lib/python3.6/dist-packages/matplotlib/backends/backend_agg.py:183: RuntimeWarning: Glyph 2509 missing from current font.\n",
            "  font.set_text(s, 0, flags=flags)\n",
            "/usr/local/lib/python3.6/dist-packages/matplotlib/backends/backend_agg.py:183: RuntimeWarning: Glyph 2497 missing from current font.\n",
            "  font.set_text(s, 0, flags=flags)\n",
            "/usr/local/lib/python3.6/dist-packages/matplotlib/backends/backend_agg.py:183: RuntimeWarning: Glyph 2460 missing from current font.\n",
            "  font.set_text(s, 0, flags=flags)\n",
            "/usr/local/lib/python3.6/dist-packages/matplotlib/backends/backend_agg.py:183: RuntimeWarning: Glyph 2479 missing from current font.\n",
            "  font.set_text(s, 0, flags=flags)\n",
            "/usr/local/lib/python3.6/dist-packages/matplotlib/backends/backend_agg.py:183: RuntimeWarning: Glyph 2463 missing from current font.\n",
            "  font.set_text(s, 0, flags=flags)\n"
          ],
          "name": "stderr"
        },
        {
          "output_type": "display_data",
          "data": {
            "image/png": "[encoded data removed]",
            "text/plain": [
              "<Figure size 432x288 with 1 Axes>"
            ]
          },
          "metadata": {
            "tags": [],
            "needs_background": "light"
          }
        }
      ]
    },
    {
      "cell_type": "markdown",
      "metadata": {
        "id": "SdGweaoUxlQS"
      },
      "source": [
        "##More frequent words V2\n"
      ]
    },
    {
      "cell_type": "code",
      "metadata": {
        "id": "zVv9jG07v4vj",
        "outputId": "024ad1b2-b4f6-42f5-fdc8-f3e30c38fbc7",
        "colab": {
          "base_uri": "https://localhost:8080/",
          "height": 204
        }
      },
      "source": [
        "data_true  = data[data['label'] == True].copy()\n",
        "data_false = data[data['label'] == False].copy()\n",
        "data_true.tail()"
      ],
      "execution_count": null,
      "outputs": [
        {
          "output_type": "execute_result",
          "data": {
            "text/html": [
              "<div>\n",
              "<style scoped>\n",
              "    .dataframe tbody tr th:only-of-type {\n",
              "        vertical-align: middle;\n",
              "    }\n",
              "\n",
              "    .dataframe tbody tr th {\n",
              "        vertical-align: top;\n",
              "    }\n",
              "\n",
              "    .dataframe thead th {\n",
              "        text-align: right;\n",
              "    }\n",
              "</style>\n",
              "<table border=\"1\" class=\"dataframe\">\n",
              "  <thead>\n",
              "    <tr style=\"text-align: right;\">\n",
              "      <th></th>\n",
              "      <th>title</th>\n",
              "      <th>text</th>\n",
              "      <th>time</th>\n",
              "      <th>link</th>\n",
              "      <th>label</th>\n",
              "      <th>source</th>\n",
              "    </tr>\n",
              "  </thead>\n",
              "  <tbody>\n",
              "    <tr>\n",
              "      <th>4421</th>\n",
              "      <td>পাটুরিয়া-দৌলতদিয়ার ভোগান্তি লাঘবে পুনরায় চালু ...</td>\n",
              "      <td>পাটুরিয়া-দৌলতদিয়া ঘাটে ভোগান্তি লাঘবে পুনরায় চ...</td>\n",
              "      <td>২২:৩৪, ১৯ আগস্ট, ২০১৯</td>\n",
              "      <td>https://www.ittefaq.com.bd/wholecountry/80964/...</td>\n",
              "      <td>1</td>\n",
              "      <td>Ittefaq</td>\n",
              "    </tr>\n",
              "    <tr>\n",
              "      <th>4422</th>\n",
              "      <td>জলাতঙ্ক রোগে আক্রান্ত গরু জবাইয়ের সময় কসাই আটক</td>\n",
              "      <td>পিরোজপুরের ভাণ্ডারিয়ায় জলাতঙ্ক রোগে আক্রান্ত গ...</td>\n",
              "      <td>১৪:৫৬, ২২ অক্টোবর, ২০১৯</td>\n",
              "      <td>https://www.ittefaq.com.bd/wholecountry/99212/...</td>\n",
              "      <td>1</td>\n",
              "      <td>Ittefaq</td>\n",
              "    </tr>\n",
              "    <tr>\n",
              "      <th>4424</th>\n",
              "      <td>ভাঙ্গায় ৫ বছরের শিশুকে ধর্ষণ, ধর্ষক আটক</td>\n",
              "      <td>ভাঙ্গা উপজেলার পৌরসদরের পশ্চিম হাসামদিয়া গ্রাম...</td>\n",
              "      <td>১৪:১৭, ২১ আগস্ট, ২০১৯</td>\n",
              "      <td>https://www.ittefaq.com.bd/wholecountry/81342/...</td>\n",
              "      <td>1</td>\n",
              "      <td>Ittefaq</td>\n",
              "    </tr>\n",
              "    <tr>\n",
              "      <th>4425</th>\n",
              "      <td>পরকীয়া সন্দেহে স্বামীর লিঙ্গ কেটে ফেললেন স্ত্রী</td>\n",
              "      <td>নাটোরের সিংড়ায় স্ত্রী কুলসুম বেগম (৩২) কর্তৃক ...</td>\n",
              "      <td>১৮:৫০, ২৯ আগস্ট, ২০১৯</td>\n",
              "      <td>https://www.ittefaq.com.bd/wholecountry/83779/...</td>\n",
              "      <td>1</td>\n",
              "      <td>Ittefaq</td>\n",
              "    </tr>\n",
              "    <tr>\n",
              "      <th>4427</th>\n",
              "      <td>ধামইরহাটে ক্ষুদ্র নৃ-গোষ্ঠীর যুবক খুন</td>\n",
              "      <td>নওগাঁর ধামইরহাটে এক ক্ষুদ্র নৃ-গোষ্ঠীর যুবককে ...</td>\n",
              "      <td>১৯:৫৮, ১১ অক্টোবর, ২০১৯</td>\n",
              "      <td>https://www.ittefaq.com.bd/wholecountry/96156/...</td>\n",
              "      <td>1</td>\n",
              "      <td>Ittefaq</td>\n",
              "    </tr>\n",
              "  </tbody>\n",
              "</table>\n",
              "</div>"
            ],
            "text/plain": [
              "                                                  title  ...   source\n",
              "4421  পাটুরিয়া-দৌলতদিয়ার ভোগান্তি লাঘবে পুনরায় চালু ...  ...  Ittefaq\n",
              "4422     জলাতঙ্ক রোগে আক্রান্ত গরু জবাইয়ের সময় কসাই আটক  ...  Ittefaq\n",
              "4424            ভাঙ্গায় ৫ বছরের শিশুকে ধর্ষণ, ধর্ষক আটক  ...  Ittefaq\n",
              "4425    পরকীয়া সন্দেহে স্বামীর লিঙ্গ কেটে ফেললেন স্ত্রী  ...  Ittefaq\n",
              "4427              ধামইরহাটে ক্ষুদ্র নৃ-গোষ্ঠীর যুবক খুন  ...  Ittefaq\n",
              "\n",
              "[5 rows x 6 columns]"
            ]
          },
          "metadata": {
            "tags": []
          },
          "execution_count": 10
        }
      ]
    },
    {
      "cell_type": "code",
      "metadata": {
        "id": "qC9bVmn70OXD",
        "outputId": "9e350ba3-75a4-4de0-c57c-9ceb5e321a53",
        "colab": {
          "base_uri": "https://localhost:8080/",
          "height": 54
        }
      },
      "source": [
        "count1 = Counter(\" \".join(data[data[\"label\"]==True][\"text\"]).split()).most_common(20)\n",
        "print(count1)\n",
        "df1 = pd.DataFrame.from_dict(count1)\n",
        "df1 = df1.rename(columns={0: \"words in non-spam\", 1 : \"count\"})\n",
        "count2 = Counter(\" \".join(data[data['label']==False][\"text\"]).split()).most_common(20)\n",
        "df2 = pd.DataFrame.from_dict(count2)\n",
        "df2 = df2.rename(columns={0: \"words in spam\", 1 : \"count_\"})"
      ],
      "execution_count": null,
      "outputs": [
        {
          "output_type": "stream",
          "text": [
            "[('ও', 7092), ('করে', 4987), ('এ', 4772), ('থেকে', 4461), ('করা', 4238), ('হয়।', 3117), ('হয়েছে।', 2939), ('তার', 2777), ('এক', 2435), ('নিয়ে', 2377), ('বলেন,', 2310), ('উপজেলার', 2283), ('জানান,', 2281), ('পুলিশ', 2258), ('আরও', 2240), ('তিনি', 2231), ('একটি', 2196), ('সময়', 1857), ('এই', 1830), ('জন্য', 1825)]\n"
          ],
          "name": "stdout"
        }
      ]
    },
    {
      "cell_type": "code",
      "metadata": {
        "id": "7BxmxUOd1Ott",
        "outputId": "13aba645-09eb-4884-b7c5-b3ce52241034",
        "colab": {
          "base_uri": "https://localhost:8080/",
          "height": 231
        }
      },
      "source": [
        "data_ham =  data[data['label'] == True].copy()\n",
        "data_spam = data[data['label'] == False].copy()\n",
        "total = data.copy()\n",
        "\n",
        "data_ham.loc[:, 'text'] = data_ham['text'].apply(remove_punctuation_and_stopwords)\n",
        "words_data_ham = data_ham['text'].tolist()\n",
        "data_spam.loc[:, 'text'] = data_spam['text'].apply(remove_punctuation_and_stopwords)\n",
        "words_data_spam = data_spam['text'].tolist()\n",
        "\n",
        "total.loc[:, 'text'] = total['text'].apply(remove_punctuation_and_stopwords)\n",
        "total_words = total['text'].tolist()"
      ],
      "execution_count": null,
      "outputs": [
        {
          "output_type": "error",
          "ename": "NameError",
          "evalue": "ignored",
          "traceback": [
            "\u001b[0;31m---------------------------------------------------------------------------\u001b[0m",
            "\u001b[0;31mNameError\u001b[0m                                 Traceback (most recent call last)",
            "\u001b[0;32m<ipython-input-12-91617efc2173>\u001b[0m in \u001b[0;36m<module>\u001b[0;34m()\u001b[0m\n\u001b[1;32m      3\u001b[0m \u001b[0mtotal\u001b[0m \u001b[0;34m=\u001b[0m \u001b[0mdata\u001b[0m\u001b[0;34m.\u001b[0m\u001b[0mcopy\u001b[0m\u001b[0;34m(\u001b[0m\u001b[0;34m)\u001b[0m\u001b[0;34m\u001b[0m\u001b[0;34m\u001b[0m\u001b[0m\n\u001b[1;32m      4\u001b[0m \u001b[0;34m\u001b[0m\u001b[0m\n\u001b[0;32m----> 5\u001b[0;31m \u001b[0mdata_ham\u001b[0m\u001b[0;34m.\u001b[0m\u001b[0mloc\u001b[0m\u001b[0;34m[\u001b[0m\u001b[0;34m:\u001b[0m\u001b[0;34m,\u001b[0m \u001b[0;34m'text'\u001b[0m\u001b[0;34m]\u001b[0m \u001b[0;34m=\u001b[0m \u001b[0mdata_ham\u001b[0m\u001b[0;34m[\u001b[0m\u001b[0;34m'text'\u001b[0m\u001b[0;34m]\u001b[0m\u001b[0;34m.\u001b[0m\u001b[0mapply\u001b[0m\u001b[0;34m(\u001b[0m\u001b[0mremove_punctuation_and_stopwords\u001b[0m\u001b[0;34m)\u001b[0m\u001b[0;34m\u001b[0m\u001b[0;34m\u001b[0m\u001b[0m\n\u001b[0m\u001b[1;32m      6\u001b[0m \u001b[0mwords_data_ham\u001b[0m \u001b[0;34m=\u001b[0m \u001b[0mdata_ham\u001b[0m\u001b[0;34m[\u001b[0m\u001b[0;34m'text'\u001b[0m\u001b[0;34m]\u001b[0m\u001b[0;34m.\u001b[0m\u001b[0mtolist\u001b[0m\u001b[0;34m(\u001b[0m\u001b[0;34m)\u001b[0m\u001b[0;34m\u001b[0m\u001b[0;34m\u001b[0m\u001b[0m\n\u001b[1;32m      7\u001b[0m \u001b[0mdata_spam\u001b[0m\u001b[0;34m.\u001b[0m\u001b[0mloc\u001b[0m\u001b[0;34m[\u001b[0m\u001b[0;34m:\u001b[0m\u001b[0;34m,\u001b[0m \u001b[0;34m'text'\u001b[0m\u001b[0;34m]\u001b[0m \u001b[0;34m=\u001b[0m \u001b[0mdata_spam\u001b[0m\u001b[0;34m[\u001b[0m\u001b[0;34m'text'\u001b[0m\u001b[0;34m]\u001b[0m\u001b[0;34m.\u001b[0m\u001b[0mapply\u001b[0m\u001b[0;34m(\u001b[0m\u001b[0mremove_punctuation_and_stopwords\u001b[0m\u001b[0;34m)\u001b[0m\u001b[0;34m\u001b[0m\u001b[0;34m\u001b[0m\u001b[0m\n",
            "\u001b[0;31mNameError\u001b[0m: name 'remove_punctuation_and_stopwords' is not defined"
          ]
        }
      ]
    },
    {
      "cell_type": "code",
      "metadata": {
        "id": "-ZWrvbcA1iTV"
      },
      "source": [
        "list_ham_words = []\n",
        "for sublist in words_data_ham:\n",
        "    for item in sublist:\n",
        "        list_ham_words.append(item)"
      ],
      "execution_count": null,
      "outputs": []
    },
    {
      "cell_type": "code",
      "metadata": {
        "id": "XKP8ftuA1nmM"
      },
      "source": [
        "list_spam_words = []\n",
        "for sublist in words_data_spam:\n",
        "    for item in sublist:\n",
        "        list_spam_words.append(item)"
      ],
      "execution_count": null,
      "outputs": []
    },
    {
      "cell_type": "code",
      "metadata": {
        "id": "zirP_qG4_WQj"
      },
      "source": [
        "list_total_words = []\n",
        "for sublist in total_words:\n",
        "    for item in sublist:\n",
        "        list_total_words.append(item)"
      ],
      "execution_count": null,
      "outputs": []
    },
    {
      "cell_type": "code",
      "metadata": {
        "id": "VrPOxlHh1qTX"
      },
      "source": [
        "c_ham  = Counter(list_ham_words)\n",
        "c_spam = Counter(list_spam_words)\n",
        "c_total = Counter(list_total_words)\n",
        "df_hamwords_top30  = pd.DataFrame(c_ham.most_common(30),  columns=['word', 'count'])\n",
        "df_spamwords_top30 = pd.DataFrame(c_spam.most_common(30), columns=['word', 'count'])\n",
        "df_toalwords_top30 = pd.DataFrame(c_total.most_common(30), columns=['word', 'count'])"
      ],
      "execution_count": null,
      "outputs": []
    },
    {
      "cell_type": "code",
      "metadata": {
        "id": "T9CwCdq92E5s"
      },
      "source": [
        "len(c_total)"
      ],
      "execution_count": null,
      "outputs": []
    },
    {
      "cell_type": "code",
      "metadata": {
        "id": "6QRj8Xiw1yCp"
      },
      "source": [
        "fig, ax = plt.subplots(figsize=(10, 6))\n",
        "sns.barplot(x='word', y='count', \n",
        "            data=df_hamwords_top30, ax=ax)\n",
        "plt.title(\"Top 30 Ham words\")\n",
        "plt.xticks(rotation='vertical');"
      ],
      "execution_count": null,
      "outputs": []
    },
    {
      "cell_type": "code",
      "metadata": {
        "id": "lrq2naih1qE3"
      },
      "source": [
        "fig, ax = plt.subplots(figsize=(10, 6))\n",
        "sns.barplot(x='word', y='count', \n",
        "            data=df_spamwords_top30, ax=ax)\n",
        "plt.title(\"Top 30 Spam words\")\n",
        "plt.xticks(rotation='vertical');"
      ],
      "execution_count": null,
      "outputs": []
    },
    {
      "cell_type": "code",
      "metadata": {
        "id": "SkXycjjuAefY"
      },
      "source": [
        "fig, ax = plt.subplots(figsize=(10, 6))\n",
        "sns.barplot(x='word', y='count', \n",
        "            data=df_spamwords_top30, ax=ax)\n",
        "plt.title(\"Top 30 Spam words\")\n",
        "plt.xticks(rotation='vertical');"
      ],
      "execution_count": null,
      "outputs": []
    },
    {
      "cell_type": "markdown",
      "metadata": {
        "id": "PM4qXSCPxuhL"
      },
      "source": [
        "##Wordcloud"
      ]
    },
    {
      "cell_type": "code",
      "metadata": {
        "id": "lMwVnevtu4K4"
      },
      "source": [
        "def show_wordcloud(data_spam_or_ham, title):\n",
        "    text = ' '.join(data_spam_or_ham['text'].astype(str).tolist())\n",
        "    stopwords = set(wordcloud.STOPWORDS)\n",
        "    \n",
        "    fig_wordcloud = wordcloud.WordCloud(stopwords=stopwords,background_color='lightgrey',\n",
        "                    colormap='viridis', width=800, height=600).generate(text)\n",
        "    \n",
        "    plt.figure(figsize=(10,7), frameon=True)\n",
        "    plt.imshow(fig_wordcloud)  \n",
        "    plt.axis('off')\n",
        "    plt.title(title, fontsize=20 )\n",
        "    plt.show()"
      ],
      "execution_count": null,
      "outputs": []
    },
    {
      "cell_type": "code",
      "metadata": {
        "id": "w2523Ojivwgq"
      },
      "source": [
        "\n",
        "\n",
        "show_wordcloud(data_true, \"Ham messages\")\n"
      ],
      "execution_count": null,
      "outputs": []
    },
    {
      "cell_type": "code",
      "metadata": {
        "id": "kUZQfVhryKGY"
      },
      "source": [
        "show_wordcloud(data_false, \"Spam messages\")\n"
      ],
      "execution_count": null,
      "outputs": []
    },
    {
      "cell_type": "markdown",
      "metadata": {
        "id": "AVFYc7I4uXPX"
      },
      "source": [
        "# Prepocessing Data"
      ]
    },
    {
      "cell_type": "markdown",
      "metadata": {
        "id": "VGzH6pQ-ugD2"
      },
      "source": [
        "## Stopwords"
      ]
    },
    {
      "cell_type": "code",
      "metadata": {
        "id": "gp_slZQ7yUzl"
      },
      "source": [
        "stopwords=[]\n",
        "\n",
        "f = open(\"stopwords-bn.txt\", \"r\")\n",
        "for x in f:\n",
        "    stopwords.append(x.rstrip())\n",
        "f.close()\n",
        "\n",
        "print(stopwords[100:110])\n",
        "\n",
        "bangla_numbers = '১২৩৪৫৬৭৮৯০'\n",
        "english_numbers = '1234567890'"
      ],
      "execution_count": null,
      "outputs": []
    },
    {
      "cell_type": "code",
      "metadata": {
        "id": "0uraliquPT7s"
      },
      "source": [
        "!pip install py-bangla-stemmer"
      ],
      "execution_count": null,
      "outputs": []
    },
    {
      "cell_type": "code",
      "metadata": {
        "id": "Melb9LhQPT7x"
      },
      "source": [
        "from py_bangla_stemmer import BanglaStemmer\n",
        "\n",
        "stemmer = BanglaStemmer()\n",
        "stemmer.stem('হিসেবে')"
      ],
      "execution_count": null,
      "outputs": []
    },
    {
      "cell_type": "code",
      "metadata": {
        "id": "eGVAlXCqWsaZ"
      },
      "source": [
        "from bengali_stemmer.rafikamal2014 import RafiStemmer\n",
        "stemmer = RafiStemmer()\n",
        "stemmer.stem_word('বাংলায়')"
      ],
      "execution_count": null,
      "outputs": []
    },
    {
      "cell_type": "code",
      "metadata": {
        "id": "-ynElSXHjzS5"
      },
      "source": [
        "text = data['text']\n",
        "\n",
        "voca = {}\n",
        "\n",
        "def clear_word(word):\n",
        "    w = ''\n",
        "    for ch in word:\n",
        "        if ch not in string.punctuation and ch != '।' and ch not in bangla_numbers and ch not in english_numbers:\n",
        "            w += ch\n",
        "            \n",
        "    return w\n",
        "\n",
        "for article in text:\n",
        "    for word in article.split(' '):\n",
        "        word = clear_word(word)\n",
        "        if word not in stopwords:\n",
        "            if voca.get(word) is None:\n",
        "                voca[word] = 0\n",
        "            voca[word] += 1\n",
        "        \n",
        "        \n"
      ],
      "execution_count": null,
      "outputs": []
    },
    {
      "cell_type": "code",
      "metadata": {
        "id": "tui47Q1iEg6c"
      },
      "source": [
        "sorted_data = sorted(voca.items(), key = \n",
        "             lambda kv:(kv[1], kv[0]),reverse = True)\n",
        "print(len(sorted_data))\n",
        "\n",
        "most_sig_pair = sorted_data[:1500]\n",
        "\n",
        "\n",
        "most_sig = []\n",
        "\n",
        "i = 0\n",
        "for pair in most_sig_pair:\n",
        "    if i == 1500:\n",
        "        break\n",
        "    most_sig.append(pair[0])\n",
        "    i += 1\n",
        "    \n",
        "print(len(most_sig))"
      ],
      "execution_count": null,
      "outputs": []
    },
    {
      "cell_type": "code",
      "metadata": {
        "id": "E0OiMTVbyrrH"
      },
      "source": [
        "def remove_punctuation_and_stopwords(doc):\n",
        "    \n",
        "    doc_no_punctuation = [ch \n",
        "                          for ch in doc \n",
        "                          if ch not in string.punctuation \n",
        "                          and ch != '।' \n",
        "                          and ch not in bangla_numbers\n",
        "                          and ch not in english_numbers]\n",
        "    \n",
        "    doc_no_punctuation = \"\".join(doc_no_punctuation).split()\n",
        "    \n",
        "    #print(doc_no_punctuation)\n",
        "\n",
        "    doc_no_punctuation_no_stopwords = \\\n",
        "        [word for word in doc_no_punctuation if word not in stopwords and word in most_sig]\n",
        "    \n",
        "    \n",
        "    #print(sms_no_punctuation_no_stopwords)\n",
        "    gram = []\n",
        "    \n",
        "    for i in range(len(doc_no_punctuation_no_stopwords)-1):\n",
        "        uni_gram = doc_no_punctuation_no_stopwords[i]\n",
        "        gram.append(uni_gram)\n",
        "    \n",
        "    '''for i in range(len(sms_no_punctuation_no_stopwords)-2):\n",
        "        bi_gram = sms_no_punctuation_no_stopwords[i]+' '+sms_no_punctuation_no_stopwords[i+1]\n",
        "        gram.append(bi_gram)\n",
        "        \n",
        "        \n",
        "    for i in range(len(sms_no_punctuation_no_stopwords)-3):\n",
        "        tri_gram = sms_no_punctuation_no_stopwords[i]+' '+sms_no_punctuation_no_stopwords[i+1]+' '+sms_no_punctuation_no_stopwords[i+2]\n",
        "        gram.append(tri_gram)'''    \n",
        "            \n",
        "    #print(gram)\n",
        "    return gram"
      ],
      "execution_count": null,
      "outputs": []
    },
    {
      "cell_type": "code",
      "metadata": {
        "id": "6vJ2DBjZy9OW"
      },
      "source": [
        "d = data['text'][6:7]\n",
        "print((d[6]))\n",
        "print(d.apply(remove_punctuation_and_stopwords)[6])"
      ],
      "execution_count": null,
      "outputs": []
    },
    {
      "cell_type": "markdown",
      "metadata": {
        "id": "n311N8MSviVX"
      },
      "source": [
        "## CountVectorizer"
      ]
    },
    {
      "cell_type": "code",
      "metadata": {
        "id": "_IqWQ_lo4-vs"
      },
      "source": [
        "f = feature_extraction.text.CountVectorizer(analyzer = remove_punctuation_and_stopwords)\n",
        "X = f.fit_transform(data[\"text\"])\n",
        "#f.get_feature_names()"
      ],
      "execution_count": null,
      "outputs": []
    },
    {
      "cell_type": "code",
      "metadata": {
        "id": "7pFopOzxWJAm"
      },
      "source": [
        "len(f.get_feature_names())"
      ],
      "execution_count": null,
      "outputs": []
    },
    {
      "cell_type": "markdown",
      "metadata": {
        "id": "XavtDpNlwcU7"
      },
      "source": [
        "##TfidfTransformer\n",
        "\n",
        "\n",
        "\n"
      ]
    },
    {
      "cell_type": "code",
      "metadata": {
        "id": "lQx-gZkIKrMa"
      },
      "source": [
        "tfidf_transformer = TfidfTransformer().fit(X)\n",
        "X = tfidf_transformer.transform(X)\n",
        "X"
      ],
      "execution_count": null,
      "outputs": []
    },
    {
      "cell_type": "markdown",
      "metadata": {
        "id": "APBVlAtAw-Vq"
      },
      "source": [
        "##Train-Text Split"
      ]
    },
    {
      "cell_type": "code",
      "metadata": {
        "id": "_WNaLmFS4-SY"
      },
      "source": [
        "X_train, X_test, y_train, y_test = model_selection.train_test_split(X, data['label'], test_size=0.20, random_state=42)\n",
        "print([np.shape(X_train), np.shape(X_test)])"
      ],
      "execution_count": null,
      "outputs": []
    },
    {
      "cell_type": "markdown",
      "metadata": {
        "id": "VrVh6-MAv1RM"
      },
      "source": [
        "#Machine Learning Algorithm"
      ]
    },
    {
      "cell_type": "markdown",
      "metadata": {
        "id": "zrbzbzjgDNN8"
      },
      "source": [
        "**My goal is to predict if a new sms is spam or non-spam. I assume that is much worse misclassify non-spam than misclassify an spam. (I don't want to have false positives)**\n",
        "<p>\n",
        "The reason is because I normally don't check the spam messages.<p> The two possible situations are:<p>\n",
        "1. New spam sms in my inbox. (False negative).<p>\n",
        "OUTCOME: I delete it.<p>\n",
        "2. New non-spam sms in my spam folder (False positive).<p>  OUTCOME: I probably don't read it. <p>\n",
        "I prefer the first option!!!"
      ]
    },
    {
      "cell_type": "markdown",
      "metadata": {
        "id": "bzSRqdUdwEOp"
      },
      "source": [
        "##Multinomial naive bayes\n",
        "\n",
        "\n",
        "\n"
      ]
    },
    {
      "cell_type": "code",
      "metadata": {
        "id": "MLTjHkpu4-D0"
      },
      "source": [
        "from sklearn.metrics import classification_report\n",
        "from sklearn import metrics\n",
        "\n",
        "\n",
        "list_alpha = np.arange(1/100000, 20, 0.11)\n",
        "score_train = np.zeros(len(list_alpha))\n",
        "score_test = np.zeros(len(list_alpha))\n",
        "recall_test = np.zeros(len(list_alpha))\n",
        "precision_test= np.zeros(len(list_alpha))\n",
        "count = 0\n",
        "\n",
        "\n",
        "for alpha in list_alpha:\n",
        "    bayes = naive_bayes.MultinomialNB(alpha=alpha)\n",
        "    bayes.fit(X_train, y_train)\n",
        "    score_train[count] = bayes.score(X_train, y_train)\n",
        "    score_test[count]= bayes.score(X_test, y_test)\n",
        "    recall_test[count] = metrics.recall_score(y_test, bayes.predict(X_test))\n",
        "    precision_test[count] = metrics.precision_score(y_test, bayes.predict(X_test))\n",
        "    count = count + 1 \n",
        "    \n",
        "    \n",
        "matrix = np.matrix(np.c_[list_alpha, score_train, score_test, recall_test, precision_test])\n",
        "models = pd.DataFrame(data = matrix, columns = \n",
        "             ['alpha', 'Train Accuracy', 'Test Accuracy', 'Test Recall', 'Test Precision'])\n",
        "#models.head(n=10)\n",
        "\n",
        "best_index = models['Test Precision'].idxmax()\n",
        "models.iloc[best_index, :]\n",
        "bayes = naive_bayes.MultinomialNB(alpha=list_alpha[best_index])\n",
        "bayes.fit(X_train, y_train)\n",
        "models.iloc[best_index, :]\n",
        "m_confusion_test = metrics.confusion_matrix(y_test, bayes.predict(X_test))\n",
        "\n",
        "y_pred = bayes.predict(X_test)\n",
        "print(\"Accuracy:\",metrics.accuracy_score(y_test, y_pred))\n",
        "print(\"Accuracy:\",metrics.precision_score(y_test, y_pred))\n",
        "print(\"Accuracy:\",metrics.recall_score(y_test, y_pred))\n",
        "print(\"Accuracy:\",metrics.f1_score(y_test, y_pred))\n",
        "\n",
        "pd.DataFrame(data = m_confusion_test, columns = ['Predicted False', 'Predicted True'],\n",
        "            index = ['Actual False', 'Actual True'])"
      ],
      "execution_count": null,
      "outputs": []
    },
    {
      "cell_type": "markdown",
      "metadata": {
        "id": "2a12vi39DjbD"
      },
      "source": [
        "##Support Vector Machine"
      ]
    },
    {
      "cell_type": "code",
      "metadata": {
        "id": "KJrpOsEvDnN5"
      },
      "source": [
        "list_C = np.arange(500, 2000, 100) #100000\n",
        "score_train = np.zeros(len(list_C))\n",
        "score_test = np.zeros(len(list_C))\n",
        "recall_test = np.zeros(len(list_C))\n",
        "precision_test= np.zeros(len(list_C))\n",
        "count = 0\n",
        "for C in list_C:\n",
        "    svc = svm.SVC(C=C)\n",
        "    svc.fit(X_train, y_train)\n",
        "    score_train[count] = svc.score(X_train, y_train)\n",
        "    score_test[count]= svc.score(X_test, y_test)\n",
        "    recall_test[count] = metrics.recall_score(y_test, svc.predict(X_test))\n",
        "    precision_test[count] = metrics.precision_score(y_test, svc.predict(X_test))\n",
        "    count = count + 1 \n",
        "matrix = np.matrix(np.c_[list_C, score_train, score_test, recall_test, precision_test])\n",
        "models = pd.DataFrame(data = matrix, columns = \n",
        "             ['C', 'Train Accuracy', 'Test Accuracy', 'Test Recall', 'Test Precision'])\n",
        "best_index = models['Test Precision'].idxmax()\n",
        "models.iloc[best_index, :]\n",
        "svc = svm.SVC(C=list_C[best_index])\n",
        "svc.fit(X_train, y_train)\n",
        "m_confusion_test = metrics.confusion_matrix(y_test, svc.predict(X_test))\n",
        "\n",
        "\n",
        "y_pred = svc.predict(X_test)\n",
        "print(\"Accuracy:\",metrics.accuracy_score(y_test, y_pred))\n",
        "print(\"Accuracy:\",metrics.precision_score(y_test, y_pred))\n",
        "print(\"Accuracy:\",metrics.recall_score(y_test, y_pred))\n",
        "print(\"Accuracy:\",metrics.f1_score(y_test, y_pred))\n",
        "\n",
        "pd.DataFrame(data = m_confusion_test, columns = ['Predicted 0', 'Predicted 1'],\n",
        "            index = ['Actual 0', 'Actual 1'])\n",
        "#from sklearn.metrics import classification_report\n",
        "#print(classification_report(svc.predict(X_test), y_test))"
      ],
      "execution_count": null,
      "outputs": []
    },
    {
      "cell_type": "markdown",
      "metadata": {
        "id": "CnjuY4hNhVu6"
      },
      "source": [
        "##Random Forests"
      ]
    },
    {
      "cell_type": "code",
      "metadata": {
        "id": "ECG3DMs0ha15"
      },
      "source": [
        "from sklearn.ensemble import RandomForestClassifier\n",
        "\n",
        "#Create a Gaussian Classifier\n",
        "clf=RandomForestClassifier(n_estimators=100)\n",
        "\n",
        "#Train the model using the training sets y_pred=clf.predict(X_test)\n",
        "clf.fit(X_train,y_train)\n",
        "\n",
        "y_pred = clf.predict(X_test)\n",
        "print(\"Accuracy:\",metrics.accuracy_score(y_test, y_pred))\n",
        "print(\"Accuracy:\",metrics.precision_score(y_test, y_pred))\n",
        "print(\"Accuracy:\",metrics.recall_score(y_test, y_pred))\n",
        "print(\"Accuracy:\",metrics.f1_score(y_test, y_pred))\n",
        "\n",
        "m_confusion_test = metrics.confusion_matrix(y_test, clf.predict(X_test))\n",
        "pd.DataFrame(data = m_confusion_test, columns = ['Predicted 0', 'Predicted 1'],\n",
        "            index = ['Actual 0', 'Actual 1'])\n"
      ],
      "execution_count": null,
      "outputs": []
    },
    {
      "cell_type": "markdown",
      "metadata": {
        "id": "OK_o6vI2zSsZ"
      },
      "source": [
        "## KNN"
      ]
    },
    {
      "cell_type": "code",
      "metadata": {
        "id": "4xFnhIgtzVyF"
      },
      "source": [
        "from sklearn.neighbors import KNeighborsClassifier\n",
        "\n",
        "model = KNeighborsClassifier(n_neighbors=10)\n",
        "\n",
        "# Train the model using the training sets\n",
        "model.fit(X_train,y_train)\n",
        "\n",
        "#Predict Output\n",
        "predicted= model.predict(X_test)\n",
        "\n",
        "y_pred = model.predict(X_test)\n",
        "print(\"Accuracy:\",metrics.accuracy_score(y_test, y_pred))\n",
        "print(\"Accuracy:\",metrics.precision_score(y_test, y_pred))\n",
        "print(\"Accuracy:\",metrics.recall_score(y_test, y_pred))\n",
        "print(\"Accuracy:\",metrics.f1_score(y_test, y_pred))\n",
        "\n",
        "\n",
        "\n",
        "m_confusion_test = metrics.confusion_matrix(y_test, model.predict(X_test))\n",
        "pd.DataFrame(data = m_confusion_test, columns = ['Predicted 0', 'Predicted 1'],\n",
        "            index = ['Actual 0', 'Actual 1'])"
      ],
      "execution_count": null,
      "outputs": []
    },
    {
      "cell_type": "markdown",
      "metadata": {
        "id": "9wD-Raw40Ax4"
      },
      "source": [
        "## Decison Tree\n"
      ]
    },
    {
      "cell_type": "code",
      "metadata": {
        "id": "POnD-cEa0DdW"
      },
      "source": [
        "from sklearn.tree import DecisionTreeClassifier # Import Decision Tree Classifier\n",
        "from sklearn.model_selection import train_test_split # Import train_test_split function\n",
        "\n",
        "clf = DecisionTreeClassifier()\n",
        "\n",
        "# Train Decision Tree Classifer\n",
        "clf = clf.fit(X_train,y_train)\n",
        "\n",
        "#Predict the response for test dataset\n",
        "y_pred = clf.predict(X_test)\n",
        "print(\"Accuracy:\",metrics.accuracy_score(y_test, y_pred))\n",
        "print(\"Accuracy:\",metrics.precision_score(y_test, y_pred))\n",
        "print(\"Accuracy:\",metrics.recall_score(y_test, y_pred))\n",
        "print(\"Accuracy:\",metrics.f1_score(y_test, y_pred))\n",
        "\n",
        "\n",
        "m_confusion_test = metrics.confusion_matrix(y_test, clf.predict(X_test))\n",
        "pd.DataFrame(data = m_confusion_test, columns = ['Predicted 0', 'Predicted 1'],\n",
        "            index = ['Actual 0', 'Actual 1'])\n"
      ],
      "execution_count": null,
      "outputs": []
    },
    {
      "cell_type": "markdown",
      "metadata": {
        "id": "HvSo4SS856-U"
      },
      "source": [
        "## Checking"
      ]
    },
    {
      "cell_type": "code",
      "metadata": {
        "id": "GrTzAHL75_4w"
      },
      "source": [
        "def detect_fake(s):\n",
        "    return clf.predict([s])[0]\n",
        "detect_spam('Your cash-balance is currently 500 pounds - to maximize your cash-in now, send COLLECT to 83600.')"
      ],
      "execution_count": null,
      "outputs": []
    },
    {
      "cell_type": "markdown",
      "metadata": {
        "id": "rNwLW5avlW2R"
      },
      "source": [
        "#Deep learning Algorithm"
      ]
    },
    {
      "cell_type": "markdown",
      "metadata": {
        "id": "KuR_1hYr2cmZ"
      },
      "source": [
        "## CNN"
      ]
    },
    {
      "cell_type": "code",
      "metadata": {
        "id": "OmUocZHLo8ma"
      },
      "source": [
        "import os\n",
        "import sys\n",
        "import numpy as np\n",
        "from keras.preprocessing.text import Tokenizer\n",
        "from keras.preprocessing.sequence import pad_sequences\n",
        "from keras.utils import to_categorical\n",
        "from keras.layers import Dense, Input, GlobalMaxPooling1D\n",
        "from keras.layers import Conv1D, MaxPooling1D, Embedding\n",
        "from keras.models import Model\n",
        "from keras.initializers import Constant\n",
        "import sklearn.metrics as metrics"
      ],
      "execution_count": null,
      "outputs": []
    },
    {
      "cell_type": "code",
      "metadata": {
        "id": "BVVYFpXGpHPy"
      },
      "source": [
        "MAX_SEQUENCE_LENGTH = 1000\n",
        "MAX_NUM_WORDS = 20000\n",
        "EMBEDDING_DIM = 300\n",
        "VALIDATION_SPLIT = 0.2"
      ],
      "execution_count": null,
      "outputs": []
    },
    {
      "cell_type": "code",
      "metadata": {
        "id": "jb9ZTFRNla3F"
      },
      "source": [
        "data=pd.read_csv('dataset.csv', encoding = 'utf-16')\n",
        "art = data['text']\n",
        "labels  = data['label']"
      ],
      "execution_count": null,
      "outputs": []
    },
    {
      "cell_type": "code",
      "metadata": {
        "id": "Eh-iKaZPqRDw"
      },
      "source": [
        "tokenizer = Tokenizer(num_words=MAX_NUM_WORDS)\n",
        "tokenizer.fit_on_texts(art)\n",
        "sequences = tokenizer.texts_to_sequences(art)\n",
        "\n",
        "word_index = tokenizer.word_index\n",
        "print(word_index)\n",
        "print('Found %s unique tokens.' % len(word_index))\n",
        "\n",
        "data = pad_sequences(sequences, maxlen=MAX_SEQUENCE_LENGTH)\n",
        "\n",
        "labels = to_categorical(np.asarray(labels))\n",
        "print('Shape of data tensor:', data.shape)\n",
        "print('Shape of label tensor:', labels.shape)\n",
        "\n",
        "np.shape(data)"
      ],
      "execution_count": null,
      "outputs": []
    },
    {
      "cell_type": "code",
      "metadata": {
        "id": "Uj69mRQ-uv11"
      },
      "source": [
        "indices = np.arange(data.shape[0])\n",
        "np.random.shuffle(indices)\n",
        "data = data[indices]\n",
        "labels = labels[indices]\n",
        "num_validation_samples = int(VALIDATION_SPLIT * data.shape[0])\n",
        "\n",
        "\n",
        "x_train = data[:-num_validation_samples]\n",
        "y_train = labels[:-num_validation_samples]\n",
        "x_val = data[-num_validation_samples:]\n",
        "y_val = labels[-num_validation_samples:]"
      ],
      "execution_count": null,
      "outputs": []
    },
    {
      "cell_type": "code",
      "metadata": {
        "id": "qSJupGt5vzCU"
      },
      "source": [
        "print('Indexing word vectors.')\n",
        "\n",
        "embeddings_index = {}\n",
        "with open('bn_w2v_model.text') as f:\n",
        "    for line in f:\n",
        "        word, coefs = line.split(maxsplit=1)\n",
        "        coefs = np.fromstring(coefs, 'f', sep=' ')\n",
        "        embeddings_index[word] = coefs\n",
        "        \n",
        "\n",
        "print('Found %s word vectors.' % len(embeddings_index))\n",
        "#print(embeddings_index['না'])"
      ],
      "execution_count": null,
      "outputs": []
    },
    {
      "cell_type": "code",
      "metadata": {
        "id": "0-cZy4ooP-pn"
      },
      "source": [
        "print(embeddings_index['উপজেলার'])"
      ],
      "execution_count": null,
      "outputs": []
    },
    {
      "cell_type": "code",
      "metadata": {
        "id": "gyACAJm9vrQd"
      },
      "source": [
        "num_words = min(MAX_NUM_WORDS, len(word_index) + 1)\n",
        "embedding_matrix = np.zeros((num_words, EMBEDDING_DIM))\n",
        "for word, i in word_index.items():\n",
        "    if i >= MAX_NUM_WORDS:\n",
        "        continue\n",
        "    embedding_vector = embeddings_index.get(word)\n",
        "    if embedding_vector is not None:\n",
        "        # words not found in embedding index will be all-zeros.\n",
        "        embedding_matrix[i] = embedding_vector\n",
        "\n",
        "# load pre-trained word embeddings into an Embedding layer\n",
        "# note that we set trainable = False so as to keep the embeddings fixed\n",
        "embedding_layer = Embedding(num_words,\n",
        "                            EMBEDDING_DIM,\n",
        "                            embeddings_initializer=Constant(embedding_matrix),\n",
        "                            input_length=MAX_SEQUENCE_LENGTH,\n",
        "                            trainable=False)"
      ],
      "execution_count": null,
      "outputs": []
    },
    {
      "cell_type": "code",
      "metadata": {
        "id": "iewXNTW71Vxp"
      },
      "source": [
        "sequence_input = Input(shape=(MAX_SEQUENCE_LENGTH,), dtype='int32')\n",
        "\n",
        "embedded_sequences = embedding_layer(sequence_input)\n",
        "np.shape(embedded_sequences)\n",
        "x = Conv1D(128, 5, activation='relu')(embedded_sequences)\n",
        "x = MaxPooling1D(5)(x)\n",
        "x = Conv1D(128, 5, activation='relu')(x)\n",
        "x = MaxPooling1D(5)(x)\n",
        "x = Conv1D(128, 5, activation='relu')(x)\n",
        "x = GlobalMaxPooling1D()(x)\n",
        "x = Dense(128, activation='relu')(x)\n",
        "preds = Dense(2, activation='softmax')(x)\n",
        "\n",
        "model = Model(sequence_input, preds)\n",
        "model.compile(loss='binary_crossentropy',\n",
        "              optimizer='adam',\n",
        "              metrics=['accuracy'])\n",
        "\n",
        "model.fit(x_train, y_train,\n",
        "          batch_size=32,\n",
        "          epochs=10,\n",
        "          validation_data=(x_val, y_val))"
      ],
      "execution_count": null,
      "outputs": []
    },
    {
      "cell_type": "markdown",
      "metadata": {
        "id": "pTpPbb16S9A5"
      },
      "source": [
        "## LSTM"
      ]
    },
    {
      "cell_type": "code",
      "metadata": {
        "id": "jCjoaI7aPT2I"
      },
      "source": [
        "import keras\n",
        "\n",
        "def create_rnn_lstm():\n",
        "    # Add an Input Layer\n",
        "    input_layer = keras.layers.Input((MAX_SEQUENCE_LENGTH, ))\n",
        "\n",
        "    # Add the word embedding Layer\n",
        "    embedding_layer = keras.layers.Embedding(num_words, 300, weights=[embedding_matrix], trainable=False)(input_layer)\n",
        "    embedding_layer = keras.layers.SpatialDropout1D(0.3)(embedding_layer)\n",
        "\n",
        "    # Add the LSTM Layer\n",
        "    lstm_layer = keras.layers.LSTM(300)(embedding_layer)\n",
        "\n",
        "    # Add the output Layers\n",
        "    output_layer1 = keras.layers.Dense(50, activation=\"relu\")(lstm_layer)\n",
        "    output_layer1 = keras.layers.Dropout(0.25)(output_layer1)\n",
        "    output_layer2 = keras.layers.Dense(2, activation=\"sigmoid\")(output_layer1)\n",
        "\n",
        "    # Compile the model\n",
        "    model = keras.models.Model(inputs=input_layer, outputs=output_layer2)\n",
        "    model.compile(optimizer='adam', loss='binary_crossentropy',metrics=['accuracy'])\n",
        "    \n",
        "    return model\n",
        "\n",
        "classifier = create_rnn_lstm()\n",
        "\n",
        "classifier.fit(x_train, y_train,\n",
        "          batch_size=32,\n",
        "          epochs=3,\n",
        "          validation_data=(x_val,y_val))"
      ],
      "execution_count": null,
      "outputs": []
    },
    {
      "cell_type": "markdown",
      "metadata": {
        "id": "mWDYozvxywQ0"
      },
      "source": [
        "#Some useful Resources\n"
      ]
    },
    {
      "cell_type": "markdown",
      "metadata": {
        "id": "3SbfZkUm6IiS"
      },
      "source": [
        "1.   Pipeline https://www.kaggle.com/jeffysonar/spam-filter-using-naive-bayes-classifier\n",
        "2.   Bangla PosTagger https://github.com/sunkuet02/BanglaPosTagger\n",
        "3.   https://github.com/banglakit/awesome-bangla\n",
        "4.   https://github.com/minsuk-heo/python_tutorial/blob/master/data_science/nlp/word2vec_tensorflow.ipynb"
      ]
    },
    {
      "cell_type": "code",
      "metadata": {
        "id": "l2HexVsED6l3"
      },
      "source": [
        "!pip install py-bangla-stemmer"
      ],
      "execution_count": null,
      "outputs": []
    },
    {
      "cell_type": "code",
      "metadata": {
        "id": "NCh-BvZJD6SI"
      },
      "source": [
        "from py_bangla_stemmer import BanglaStemmer\n",
        "\n",
        "stemmer = BanglaStemmer()\n",
        "stemmer.stem('আইডির')"
      ],
      "execution_count": null,
      "outputs": []
    },
    {
      "cell_type": "code",
      "metadata": {
        "id": "Q5yLVPVq-16a"
      },
      "source": [
        "!pip install bnltk"
      ],
      "execution_count": null,
      "outputs": []
    },
    {
      "cell_type": "code",
      "metadata": {
        "id": "87v5zMA4-2Cy"
      },
      "source": [
        "from bnltk.pos_tagger import BanglaPosTagger\n",
        "t = BanglaPosTagger()\n",
        "print(t.bn_pos_tag(' আমার সোনার বাংলা । আমি তোমায় ভালোবাসি । '))"
      ],
      "execution_count": null,
      "outputs": []
    }
  ]
}